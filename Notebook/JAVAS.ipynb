{
  "nbformat": 4,
  "nbformat_minor": 0,
  "metadata": {
    "colab": {
      "name": "JAVAS",
      "provenance": [],
      "collapsed_sections": []
    },
    "kernelspec": {
      "name": "python3",
      "display_name": "Python 3"
    },
    "language_info": {
      "name": "python"
    }
  },
  "cells": [
    {
      "cell_type": "markdown",
      "metadata": {
        "id": "83QCMk57sgDQ"
      },
      "source": [
        "Imported the TensorFlow Library, and entered the Covid Dataset data from Kaggle (https://www.kaggle.com/hemanthhari/symptoms-and-covid-presence/code) which contained 20 indicators / symptoms and the status of COVID-19 patients"
      ]
    },
    {
      "cell_type": "markdown",
      "metadata": {
        "id": "1oyk7Grfb-5D"
      },
      "source": [
        "Create a dataset as pandas.DataFrame"
      ]
    },
    {
      "cell_type": "code",
      "metadata": {
        "id": "scJdg4Htb7kC"
      },
      "source": [
        "import tensorflow as tf\n",
        "from keras.models import Sequential\n",
        "import pandas as pd\n",
        "from keras.layers import Dense\n",
        "\n",
        "data = pd.read_csv('Covid Dataset.csv')"
      ],
      "execution_count": null,
      "outputs": []
    },
    {
      "cell_type": "markdown",
      "metadata": {
        "id": "h1PDwkwotSoK"
      },
      "source": [
        "Knowing the description of the dataset used. It is known that there are 2 indicators that do not affect the final status, namely \"Wearing Masks\" and \"Sanitization from Market\""
      ]
    },
    {
      "cell_type": "code",
      "metadata": {
        "colab": {
          "base_uri": "https://localhost:8080/",
          "height": 271
        },
        "id": "NVE4polhcIMJ",
        "outputId": "49a52cab-c555-41ea-acfb-805994559bca"
      },
      "source": [
        "data.describe()"
      ],
      "execution_count": null,
      "outputs": [
        {
          "output_type": "execute_result",
          "data": {
            "text/html": [
              "<div>\n",
              "<style scoped>\n",
              "    .dataframe tbody tr th:only-of-type {\n",
              "        vertical-align: middle;\n",
              "    }\n",
              "\n",
              "    .dataframe tbody tr th {\n",
              "        vertical-align: top;\n",
              "    }\n",
              "\n",
              "    .dataframe thead th {\n",
              "        text-align: right;\n",
              "    }\n",
              "</style>\n",
              "<table border=\"1\" class=\"dataframe\">\n",
              "  <thead>\n",
              "    <tr style=\"text-align: right;\">\n",
              "      <th></th>\n",
              "      <th>Breathing Problem</th>\n",
              "      <th>Fever</th>\n",
              "      <th>Dry Cough</th>\n",
              "      <th>Sore throat</th>\n",
              "      <th>Running Nose</th>\n",
              "      <th>Asthma</th>\n",
              "      <th>Chronic Lung Disease</th>\n",
              "      <th>Headache</th>\n",
              "      <th>Heart Disease</th>\n",
              "      <th>Diabetes</th>\n",
              "      <th>Hyper Tension</th>\n",
              "      <th>Fatigue</th>\n",
              "      <th>Gastrointestinal</th>\n",
              "      <th>Abroad travel</th>\n",
              "      <th>Contact with COVID Patient</th>\n",
              "      <th>Attended Large Gathering</th>\n",
              "      <th>Visited Public Exposed Places</th>\n",
              "      <th>Family working in Public Exposed Places</th>\n",
              "      <th>Wearing Masks</th>\n",
              "      <th>Sanitization from Market</th>\n",
              "      <th>COVID-19</th>\n",
              "    </tr>\n",
              "  </thead>\n",
              "  <tbody>\n",
              "    <tr>\n",
              "      <th>count</th>\n",
              "      <td>5434</td>\n",
              "      <td>5434</td>\n",
              "      <td>5434</td>\n",
              "      <td>5434</td>\n",
              "      <td>5434</td>\n",
              "      <td>5434</td>\n",
              "      <td>5434</td>\n",
              "      <td>5434</td>\n",
              "      <td>5434</td>\n",
              "      <td>5434</td>\n",
              "      <td>5434</td>\n",
              "      <td>5434</td>\n",
              "      <td>5434</td>\n",
              "      <td>5434</td>\n",
              "      <td>5434</td>\n",
              "      <td>5434</td>\n",
              "      <td>5434</td>\n",
              "      <td>5434</td>\n",
              "      <td>5434</td>\n",
              "      <td>5434</td>\n",
              "      <td>5434</td>\n",
              "    </tr>\n",
              "    <tr>\n",
              "      <th>unique</th>\n",
              "      <td>2</td>\n",
              "      <td>2</td>\n",
              "      <td>2</td>\n",
              "      <td>2</td>\n",
              "      <td>2</td>\n",
              "      <td>2</td>\n",
              "      <td>2</td>\n",
              "      <td>2</td>\n",
              "      <td>2</td>\n",
              "      <td>2</td>\n",
              "      <td>2</td>\n",
              "      <td>2</td>\n",
              "      <td>2</td>\n",
              "      <td>2</td>\n",
              "      <td>2</td>\n",
              "      <td>2</td>\n",
              "      <td>2</td>\n",
              "      <td>2</td>\n",
              "      <td>1</td>\n",
              "      <td>1</td>\n",
              "      <td>2</td>\n",
              "    </tr>\n",
              "    <tr>\n",
              "      <th>top</th>\n",
              "      <td>Yes</td>\n",
              "      <td>Yes</td>\n",
              "      <td>Yes</td>\n",
              "      <td>Yes</td>\n",
              "      <td>Yes</td>\n",
              "      <td>No</td>\n",
              "      <td>No</td>\n",
              "      <td>Yes</td>\n",
              "      <td>No</td>\n",
              "      <td>No</td>\n",
              "      <td>No</td>\n",
              "      <td>Yes</td>\n",
              "      <td>No</td>\n",
              "      <td>No</td>\n",
              "      <td>Yes</td>\n",
              "      <td>No</td>\n",
              "      <td>Yes</td>\n",
              "      <td>No</td>\n",
              "      <td>No</td>\n",
              "      <td>No</td>\n",
              "      <td>Yes</td>\n",
              "    </tr>\n",
              "    <tr>\n",
              "      <th>freq</th>\n",
              "      <td>3620</td>\n",
              "      <td>4273</td>\n",
              "      <td>4307</td>\n",
              "      <td>3953</td>\n",
              "      <td>2952</td>\n",
              "      <td>2920</td>\n",
              "      <td>2869</td>\n",
              "      <td>2736</td>\n",
              "      <td>2911</td>\n",
              "      <td>2846</td>\n",
              "      <td>2771</td>\n",
              "      <td>2821</td>\n",
              "      <td>2883</td>\n",
              "      <td>2983</td>\n",
              "      <td>2726</td>\n",
              "      <td>2924</td>\n",
              "      <td>2820</td>\n",
              "      <td>3172</td>\n",
              "      <td>5434</td>\n",
              "      <td>5434</td>\n",
              "      <td>4383</td>\n",
              "    </tr>\n",
              "  </tbody>\n",
              "</table>\n",
              "</div>"
            ],
            "text/plain": [
              "       Breathing Problem Fever  ... Sanitization from Market COVID-19\n",
              "count               5434  5434  ...                     5434     5434\n",
              "unique                 2     2  ...                        1        2\n",
              "top                  Yes   Yes  ...                       No      Yes\n",
              "freq                3620  4273  ...                     5434     4383\n",
              "\n",
              "[4 rows x 21 columns]"
            ]
          },
          "metadata": {
            "tags": []
          },
          "execution_count": 2
        }
      ]
    },
    {
      "cell_type": "code",
      "metadata": {
        "colab": {
          "base_uri": "https://localhost:8080/"
        },
        "id": "0mjt6wI9cKnC",
        "outputId": "2d385e14-5d7a-400d-d6b1-8faf7f9b8b90"
      },
      "source": [
        " data.info()"
      ],
      "execution_count": null,
      "outputs": [
        {
          "output_type": "stream",
          "text": [
            "<class 'pandas.core.frame.DataFrame'>\n",
            "RangeIndex: 5434 entries, 0 to 5433\n",
            "Data columns (total 21 columns):\n",
            " #   Column                                   Non-Null Count  Dtype \n",
            "---  ------                                   --------------  ----- \n",
            " 0   Breathing Problem                        5434 non-null   object\n",
            " 1   Fever                                    5434 non-null   object\n",
            " 2   Dry Cough                                5434 non-null   object\n",
            " 3   Sore throat                              5434 non-null   object\n",
            " 4   Running Nose                             5434 non-null   object\n",
            " 5   Asthma                                   5434 non-null   object\n",
            " 6   Chronic Lung Disease                     5434 non-null   object\n",
            " 7   Headache                                 5434 non-null   object\n",
            " 8   Heart Disease                            5434 non-null   object\n",
            " 9   Diabetes                                 5434 non-null   object\n",
            " 10  Hyper Tension                            5434 non-null   object\n",
            " 11  Fatigue                                  5434 non-null   object\n",
            " 12  Gastrointestinal                         5434 non-null   object\n",
            " 13  Abroad travel                            5434 non-null   object\n",
            " 14  Contact with COVID Patient               5434 non-null   object\n",
            " 15  Attended Large Gathering                 5434 non-null   object\n",
            " 16  Visited Public Exposed Places            5434 non-null   object\n",
            " 17  Family working in Public Exposed Places  5434 non-null   object\n",
            " 18  Wearing Masks                            5434 non-null   object\n",
            " 19  Sanitization from Market                 5434 non-null   object\n",
            " 20  COVID-19                                 5434 non-null   object\n",
            "dtypes: object(21)\n",
            "memory usage: 891.6+ KB\n"
          ],
          "name": "stdout"
        }
      ]
    },
    {
      "cell_type": "markdown",
      "metadata": {
        "id": "T6HYvBcetriy"
      },
      "source": [
        "Removing columns from unnecessary indicators, namely Columns \"Wearing Masks\" and \"Sanitization from Market\""
      ]
    },
    {
      "cell_type": "code",
      "metadata": {
        "colab": {
          "base_uri": "https://localhost:8080/",
          "height": 819
        },
        "id": "2LSMYunQcMfa",
        "outputId": "cdf8e124-1cd7-4b7d-c339-af2d58780906"
      },
      "source": [
        "df_marks = pd.DataFrame(data)\n",
        "print('Original DataFrame\\n--------------')\n",
        "print(df_marks)\n",
        "\n",
        "#delete a column\n",
        "#del df_marks['Wearing Masks']\n",
        "del df_marks['Sanitization from Market']\n",
        "print('\\n\\nDataFrame after deleting column\\n--------------')\n",
        "print(df_marks)"
      ],
      "execution_count": null,
      "outputs": [
        {
          "output_type": "stream",
          "text": [
            "Original DataFrame\n",
            "--------------\n",
            "     Breathing Problem Fever  ... Family working in Public Exposed Places COVID-19\n",
            "0                  Yes   Yes  ...                                     Yes      Yes\n",
            "1                  Yes   Yes  ...                                      No      Yes\n",
            "2                  Yes   Yes  ...                                      No      Yes\n",
            "3                  Yes   Yes  ...                                      No      Yes\n",
            "4                  Yes   Yes  ...                                      No      Yes\n",
            "...                ...   ...  ...                                     ...      ...\n",
            "5429               Yes   Yes  ...                                      No      Yes\n",
            "5430               Yes   Yes  ...                                      No      Yes\n",
            "5431               Yes   Yes  ...                                      No       No\n",
            "5432               Yes   Yes  ...                                      No       No\n",
            "5433               Yes   Yes  ...                                      No       No\n",
            "\n",
            "[5434 rows x 19 columns]\n"
          ],
          "name": "stdout"
        },
        {
          "output_type": "error",
          "ename": "KeyError",
          "evalue": "ignored",
          "traceback": [
            "\u001b[0;31m---------------------------------------------------------------------------\u001b[0m",
            "\u001b[0;31mKeyError\u001b[0m                                  Traceback (most recent call last)",
            "\u001b[0;32m/usr/local/lib/python3.7/dist-packages/pandas/core/indexes/base.py\u001b[0m in \u001b[0;36mget_loc\u001b[0;34m(self, key, method, tolerance)\u001b[0m\n\u001b[1;32m   2897\u001b[0m             \u001b[0;32mtry\u001b[0m\u001b[0;34m:\u001b[0m\u001b[0;34m\u001b[0m\u001b[0;34m\u001b[0m\u001b[0m\n\u001b[0;32m-> 2898\u001b[0;31m                 \u001b[0;32mreturn\u001b[0m \u001b[0mself\u001b[0m\u001b[0;34m.\u001b[0m\u001b[0m_engine\u001b[0m\u001b[0;34m.\u001b[0m\u001b[0mget_loc\u001b[0m\u001b[0;34m(\u001b[0m\u001b[0mcasted_key\u001b[0m\u001b[0;34m)\u001b[0m\u001b[0;34m\u001b[0m\u001b[0;34m\u001b[0m\u001b[0m\n\u001b[0m\u001b[1;32m   2899\u001b[0m             \u001b[0;32mexcept\u001b[0m \u001b[0mKeyError\u001b[0m \u001b[0;32mas\u001b[0m \u001b[0merr\u001b[0m\u001b[0;34m:\u001b[0m\u001b[0;34m\u001b[0m\u001b[0;34m\u001b[0m\u001b[0m\n",
            "\u001b[0;32mpandas/_libs/index.pyx\u001b[0m in \u001b[0;36mpandas._libs.index.IndexEngine.get_loc\u001b[0;34m()\u001b[0m\n",
            "\u001b[0;32mpandas/_libs/index.pyx\u001b[0m in \u001b[0;36mpandas._libs.index.IndexEngine.get_loc\u001b[0;34m()\u001b[0m\n",
            "\u001b[0;32mpandas/_libs/hashtable_class_helper.pxi\u001b[0m in \u001b[0;36mpandas._libs.hashtable.PyObjectHashTable.get_item\u001b[0;34m()\u001b[0m\n",
            "\u001b[0;32mpandas/_libs/hashtable_class_helper.pxi\u001b[0m in \u001b[0;36mpandas._libs.hashtable.PyObjectHashTable.get_item\u001b[0;34m()\u001b[0m\n",
            "\u001b[0;31mKeyError\u001b[0m: 'Wearing Masks'",
            "\nThe above exception was the direct cause of the following exception:\n",
            "\u001b[0;31mKeyError\u001b[0m                                  Traceback (most recent call last)",
            "\u001b[0;32m<ipython-input-8-2fa61caf94a3>\u001b[0m in \u001b[0;36m<module>\u001b[0;34m()\u001b[0m\n\u001b[1;32m      4\u001b[0m \u001b[0;34m\u001b[0m\u001b[0m\n\u001b[1;32m      5\u001b[0m \u001b[0;31m#delete a column\u001b[0m\u001b[0;34m\u001b[0m\u001b[0;34m\u001b[0m\u001b[0;34m\u001b[0m\u001b[0m\n\u001b[0;32m----> 6\u001b[0;31m \u001b[0;32mdel\u001b[0m \u001b[0mdf_marks\u001b[0m\u001b[0;34m[\u001b[0m\u001b[0;34m'Wearing Masks'\u001b[0m\u001b[0;34m]\u001b[0m\u001b[0;34m\u001b[0m\u001b[0;34m\u001b[0m\u001b[0m\n\u001b[0m\u001b[1;32m      7\u001b[0m \u001b[0;31m#del df_marks['Sanitization from Market']\u001b[0m\u001b[0;34m\u001b[0m\u001b[0;34m\u001b[0m\u001b[0;34m\u001b[0m\u001b[0m\n\u001b[1;32m      8\u001b[0m \u001b[0mprint\u001b[0m\u001b[0;34m(\u001b[0m\u001b[0;34m'\\n\\nDataFrame after deleting column\\n--------------'\u001b[0m\u001b[0;34m)\u001b[0m\u001b[0;34m\u001b[0m\u001b[0;34m\u001b[0m\u001b[0m\n",
            "\u001b[0;32m/usr/local/lib/python3.7/dist-packages/pandas/core/generic.py\u001b[0m in \u001b[0;36m__delitem__\u001b[0;34m(self, key)\u001b[0m\n\u001b[1;32m   3711\u001b[0m             \u001b[0;31m# there was no match, this call should raise the appropriate\u001b[0m\u001b[0;34m\u001b[0m\u001b[0;34m\u001b[0m\u001b[0;34m\u001b[0m\u001b[0m\n\u001b[1;32m   3712\u001b[0m             \u001b[0;31m# exception:\u001b[0m\u001b[0;34m\u001b[0m\u001b[0;34m\u001b[0m\u001b[0;34m\u001b[0m\u001b[0m\n\u001b[0;32m-> 3713\u001b[0;31m             \u001b[0mloc\u001b[0m \u001b[0;34m=\u001b[0m \u001b[0mself\u001b[0m\u001b[0;34m.\u001b[0m\u001b[0maxes\u001b[0m\u001b[0;34m[\u001b[0m\u001b[0;34m-\u001b[0m\u001b[0;36m1\u001b[0m\u001b[0;34m]\u001b[0m\u001b[0;34m.\u001b[0m\u001b[0mget_loc\u001b[0m\u001b[0;34m(\u001b[0m\u001b[0mkey\u001b[0m\u001b[0;34m)\u001b[0m\u001b[0;34m\u001b[0m\u001b[0;34m\u001b[0m\u001b[0m\n\u001b[0m\u001b[1;32m   3714\u001b[0m             \u001b[0mself\u001b[0m\u001b[0;34m.\u001b[0m\u001b[0m_mgr\u001b[0m\u001b[0;34m.\u001b[0m\u001b[0midelete\u001b[0m\u001b[0;34m(\u001b[0m\u001b[0mloc\u001b[0m\u001b[0;34m)\u001b[0m\u001b[0;34m\u001b[0m\u001b[0;34m\u001b[0m\u001b[0m\n\u001b[1;32m   3715\u001b[0m \u001b[0;34m\u001b[0m\u001b[0m\n",
            "\u001b[0;32m/usr/local/lib/python3.7/dist-packages/pandas/core/indexes/base.py\u001b[0m in \u001b[0;36mget_loc\u001b[0;34m(self, key, method, tolerance)\u001b[0m\n\u001b[1;32m   2898\u001b[0m                 \u001b[0;32mreturn\u001b[0m \u001b[0mself\u001b[0m\u001b[0;34m.\u001b[0m\u001b[0m_engine\u001b[0m\u001b[0;34m.\u001b[0m\u001b[0mget_loc\u001b[0m\u001b[0;34m(\u001b[0m\u001b[0mcasted_key\u001b[0m\u001b[0;34m)\u001b[0m\u001b[0;34m\u001b[0m\u001b[0;34m\u001b[0m\u001b[0m\n\u001b[1;32m   2899\u001b[0m             \u001b[0;32mexcept\u001b[0m \u001b[0mKeyError\u001b[0m \u001b[0;32mas\u001b[0m \u001b[0merr\u001b[0m\u001b[0;34m:\u001b[0m\u001b[0;34m\u001b[0m\u001b[0;34m\u001b[0m\u001b[0m\n\u001b[0;32m-> 2900\u001b[0;31m                 \u001b[0;32mraise\u001b[0m \u001b[0mKeyError\u001b[0m\u001b[0;34m(\u001b[0m\u001b[0mkey\u001b[0m\u001b[0;34m)\u001b[0m \u001b[0;32mfrom\u001b[0m \u001b[0merr\u001b[0m\u001b[0;34m\u001b[0m\u001b[0;34m\u001b[0m\u001b[0m\n\u001b[0m\u001b[1;32m   2901\u001b[0m \u001b[0;34m\u001b[0m\u001b[0m\n\u001b[1;32m   2902\u001b[0m         \u001b[0;32mif\u001b[0m \u001b[0mtolerance\u001b[0m \u001b[0;32mis\u001b[0m \u001b[0;32mnot\u001b[0m \u001b[0;32mNone\u001b[0m\u001b[0;34m:\u001b[0m\u001b[0;34m\u001b[0m\u001b[0;34m\u001b[0m\u001b[0m\n",
            "\u001b[0;31mKeyError\u001b[0m: 'Wearing Masks'"
          ]
        }
      ]
    },
    {
      "cell_type": "markdown",
      "metadata": {
        "id": "33y0sfoJuC6p"
      },
      "source": [
        "Prepare the test and training datasets, dividing the data into 20% for the test data section and 80% for training data "
      ]
    },
    {
      "cell_type": "code",
      "metadata": {
        "id": "skl0KxyedROz"
      },
      "source": [
        "import numpy as np\n",
        "\n",
        "labels=data['COVID-19']\n",
        "features = data.iloc[:,:-1]\n",
        "\n",
        "from sklearn.model_selection import train_test_split\n",
        "\n",
        "X=features\n",
        "\n",
        "y=np.ravel(labels)\n",
        "\n",
        "X_train, X_test, y_train, y_test = train_test_split(X, y, test_size=0.2, random_state=42) "
      ],
      "execution_count": null,
      "outputs": []
    },
    {
      "cell_type": "markdown",
      "metadata": {
        "id": "omWjK6Glt3_g"
      },
      "source": [
        "Changing the form of the data type from the initial String to Integer"
      ]
    },
    {
      "cell_type": "code",
      "metadata": {
        "id": "heC3OOKSdYUL"
      },
      "source": [
        "from sklearn.preprocessing import LabelEncoder\n",
        "e=LabelEncoder()\n",
        "data=data.apply(e.fit_transform).astype(int)"
      ],
      "execution_count": null,
      "outputs": []
    },
    {
      "cell_type": "code",
      "metadata": {
        "colab": {
          "base_uri": "https://localhost:8080/",
          "height": 510
        },
        "id": "Ingys8EwddYN",
        "outputId": "146b5d43-fcae-430e-e54e-ebd179ab32dc"
      },
      "source": [
        "X_train"
      ],
      "execution_count": null,
      "outputs": [
        {
          "output_type": "execute_result",
          "data": {
            "text/html": [
              "<div>\n",
              "<style scoped>\n",
              "    .dataframe tbody tr th:only-of-type {\n",
              "        vertical-align: middle;\n",
              "    }\n",
              "\n",
              "    .dataframe tbody tr th {\n",
              "        vertical-align: top;\n",
              "    }\n",
              "\n",
              "    .dataframe thead th {\n",
              "        text-align: right;\n",
              "    }\n",
              "</style>\n",
              "<table border=\"1\" class=\"dataframe\">\n",
              "  <thead>\n",
              "    <tr style=\"text-align: right;\">\n",
              "      <th></th>\n",
              "      <th>Breathing Problem</th>\n",
              "      <th>Fever</th>\n",
              "      <th>Dry Cough</th>\n",
              "      <th>Sore throat</th>\n",
              "      <th>Running Nose</th>\n",
              "      <th>Asthma</th>\n",
              "      <th>Chronic Lung Disease</th>\n",
              "      <th>Headache</th>\n",
              "      <th>Heart Disease</th>\n",
              "      <th>Diabetes</th>\n",
              "      <th>Hyper Tension</th>\n",
              "      <th>Fatigue</th>\n",
              "      <th>Gastrointestinal</th>\n",
              "      <th>Abroad travel</th>\n",
              "      <th>Contact with COVID Patient</th>\n",
              "      <th>Attended Large Gathering</th>\n",
              "      <th>Visited Public Exposed Places</th>\n",
              "      <th>Family working in Public Exposed Places</th>\n",
              "    </tr>\n",
              "  </thead>\n",
              "  <tbody>\n",
              "    <tr>\n",
              "      <th>4205</th>\n",
              "      <td>0</td>\n",
              "      <td>0</td>\n",
              "      <td>0</td>\n",
              "      <td>0</td>\n",
              "      <td>1</td>\n",
              "      <td>0</td>\n",
              "      <td>0</td>\n",
              "      <td>1</td>\n",
              "      <td>1</td>\n",
              "      <td>1</td>\n",
              "      <td>0</td>\n",
              "      <td>1</td>\n",
              "      <td>1</td>\n",
              "      <td>0</td>\n",
              "      <td>0</td>\n",
              "      <td>0</td>\n",
              "      <td>0</td>\n",
              "      <td>1</td>\n",
              "    </tr>\n",
              "    <tr>\n",
              "      <th>1612</th>\n",
              "      <td>1</td>\n",
              "      <td>1</td>\n",
              "      <td>1</td>\n",
              "      <td>1</td>\n",
              "      <td>0</td>\n",
              "      <td>0</td>\n",
              "      <td>1</td>\n",
              "      <td>0</td>\n",
              "      <td>0</td>\n",
              "      <td>0</td>\n",
              "      <td>1</td>\n",
              "      <td>0</td>\n",
              "      <td>0</td>\n",
              "      <td>0</td>\n",
              "      <td>1</td>\n",
              "      <td>0</td>\n",
              "      <td>0</td>\n",
              "      <td>0</td>\n",
              "    </tr>\n",
              "    <tr>\n",
              "      <th>2683</th>\n",
              "      <td>1</td>\n",
              "      <td>0</td>\n",
              "      <td>1</td>\n",
              "      <td>1</td>\n",
              "      <td>1</td>\n",
              "      <td>0</td>\n",
              "      <td>0</td>\n",
              "      <td>1</td>\n",
              "      <td>0</td>\n",
              "      <td>1</td>\n",
              "      <td>0</td>\n",
              "      <td>0</td>\n",
              "      <td>0</td>\n",
              "      <td>1</td>\n",
              "      <td>0</td>\n",
              "      <td>0</td>\n",
              "      <td>1</td>\n",
              "      <td>0</td>\n",
              "    </tr>\n",
              "    <tr>\n",
              "      <th>652</th>\n",
              "      <td>1</td>\n",
              "      <td>1</td>\n",
              "      <td>1</td>\n",
              "      <td>1</td>\n",
              "      <td>1</td>\n",
              "      <td>1</td>\n",
              "      <td>0</td>\n",
              "      <td>0</td>\n",
              "      <td>1</td>\n",
              "      <td>1</td>\n",
              "      <td>1</td>\n",
              "      <td>0</td>\n",
              "      <td>1</td>\n",
              "      <td>1</td>\n",
              "      <td>0</td>\n",
              "      <td>1</td>\n",
              "      <td>0</td>\n",
              "      <td>1</td>\n",
              "    </tr>\n",
              "    <tr>\n",
              "      <th>4630</th>\n",
              "      <td>0</td>\n",
              "      <td>1</td>\n",
              "      <td>1</td>\n",
              "      <td>0</td>\n",
              "      <td>0</td>\n",
              "      <td>0</td>\n",
              "      <td>0</td>\n",
              "      <td>1</td>\n",
              "      <td>0</td>\n",
              "      <td>1</td>\n",
              "      <td>0</td>\n",
              "      <td>0</td>\n",
              "      <td>1</td>\n",
              "      <td>0</td>\n",
              "      <td>0</td>\n",
              "      <td>0</td>\n",
              "      <td>1</td>\n",
              "      <td>1</td>\n",
              "    </tr>\n",
              "    <tr>\n",
              "      <th>...</th>\n",
              "      <td>...</td>\n",
              "      <td>...</td>\n",
              "      <td>...</td>\n",
              "      <td>...</td>\n",
              "      <td>...</td>\n",
              "      <td>...</td>\n",
              "      <td>...</td>\n",
              "      <td>...</td>\n",
              "      <td>...</td>\n",
              "      <td>...</td>\n",
              "      <td>...</td>\n",
              "      <td>...</td>\n",
              "      <td>...</td>\n",
              "      <td>...</td>\n",
              "      <td>...</td>\n",
              "      <td>...</td>\n",
              "      <td>...</td>\n",
              "      <td>...</td>\n",
              "    </tr>\n",
              "    <tr>\n",
              "      <th>3772</th>\n",
              "      <td>0</td>\n",
              "      <td>1</td>\n",
              "      <td>1</td>\n",
              "      <td>0</td>\n",
              "      <td>1</td>\n",
              "      <td>0</td>\n",
              "      <td>0</td>\n",
              "      <td>1</td>\n",
              "      <td>0</td>\n",
              "      <td>1</td>\n",
              "      <td>1</td>\n",
              "      <td>1</td>\n",
              "      <td>1</td>\n",
              "      <td>1</td>\n",
              "      <td>0</td>\n",
              "      <td>1</td>\n",
              "      <td>0</td>\n",
              "      <td>1</td>\n",
              "    </tr>\n",
              "    <tr>\n",
              "      <th>5191</th>\n",
              "      <td>1</td>\n",
              "      <td>1</td>\n",
              "      <td>0</td>\n",
              "      <td>1</td>\n",
              "      <td>1</td>\n",
              "      <td>1</td>\n",
              "      <td>1</td>\n",
              "      <td>1</td>\n",
              "      <td>1</td>\n",
              "      <td>1</td>\n",
              "      <td>0</td>\n",
              "      <td>0</td>\n",
              "      <td>0</td>\n",
              "      <td>0</td>\n",
              "      <td>1</td>\n",
              "      <td>1</td>\n",
              "      <td>0</td>\n",
              "      <td>0</td>\n",
              "    </tr>\n",
              "    <tr>\n",
              "      <th>5226</th>\n",
              "      <td>1</td>\n",
              "      <td>1</td>\n",
              "      <td>0</td>\n",
              "      <td>0</td>\n",
              "      <td>1</td>\n",
              "      <td>0</td>\n",
              "      <td>1</td>\n",
              "      <td>0</td>\n",
              "      <td>0</td>\n",
              "      <td>0</td>\n",
              "      <td>1</td>\n",
              "      <td>0</td>\n",
              "      <td>1</td>\n",
              "      <td>0</td>\n",
              "      <td>1</td>\n",
              "      <td>1</td>\n",
              "      <td>0</td>\n",
              "      <td>0</td>\n",
              "    </tr>\n",
              "    <tr>\n",
              "      <th>5390</th>\n",
              "      <td>1</td>\n",
              "      <td>0</td>\n",
              "      <td>0</td>\n",
              "      <td>0</td>\n",
              "      <td>0</td>\n",
              "      <td>0</td>\n",
              "      <td>0</td>\n",
              "      <td>1</td>\n",
              "      <td>1</td>\n",
              "      <td>0</td>\n",
              "      <td>0</td>\n",
              "      <td>0</td>\n",
              "      <td>0</td>\n",
              "      <td>0</td>\n",
              "      <td>1</td>\n",
              "      <td>1</td>\n",
              "      <td>1</td>\n",
              "      <td>0</td>\n",
              "    </tr>\n",
              "    <tr>\n",
              "      <th>860</th>\n",
              "      <td>1</td>\n",
              "      <td>1</td>\n",
              "      <td>1</td>\n",
              "      <td>1</td>\n",
              "      <td>0</td>\n",
              "      <td>1</td>\n",
              "      <td>0</td>\n",
              "      <td>0</td>\n",
              "      <td>0</td>\n",
              "      <td>0</td>\n",
              "      <td>1</td>\n",
              "      <td>0</td>\n",
              "      <td>0</td>\n",
              "      <td>0</td>\n",
              "      <td>1</td>\n",
              "      <td>1</td>\n",
              "      <td>1</td>\n",
              "      <td>0</td>\n",
              "    </tr>\n",
              "  </tbody>\n",
              "</table>\n",
              "<p>4347 rows × 18 columns</p>\n",
              "</div>"
            ],
            "text/plain": [
              "      Breathing Problem  ...  Family working in Public Exposed Places\n",
              "4205                  0  ...                                        1\n",
              "1612                  1  ...                                        0\n",
              "2683                  1  ...                                        0\n",
              "652                   1  ...                                        1\n",
              "4630                  0  ...                                        1\n",
              "...                 ...  ...                                      ...\n",
              "3772                  0  ...                                        1\n",
              "5191                  1  ...                                        0\n",
              "5226                  1  ...                                        0\n",
              "5390                  1  ...                                        0\n",
              "860                   1  ...                                        0\n",
              "\n",
              "[4347 rows x 18 columns]"
            ]
          },
          "metadata": {
            "tags": []
          },
          "execution_count": 12
        }
      ]
    },
    {
      "cell_type": "code",
      "metadata": {
        "colab": {
          "base_uri": "https://localhost:8080/",
          "height": 301
        },
        "id": "nSLg5h7dpvb2",
        "outputId": "3e8490ec-61bb-42dc-de59-e2dc8e72ab0f"
      },
      "source": [
        "data.head()"
      ],
      "execution_count": null,
      "outputs": [
        {
          "output_type": "execute_result",
          "data": {
            "text/html": [
              "<div>\n",
              "<style scoped>\n",
              "    .dataframe tbody tr th:only-of-type {\n",
              "        vertical-align: middle;\n",
              "    }\n",
              "\n",
              "    .dataframe tbody tr th {\n",
              "        vertical-align: top;\n",
              "    }\n",
              "\n",
              "    .dataframe thead th {\n",
              "        text-align: right;\n",
              "    }\n",
              "</style>\n",
              "<table border=\"1\" class=\"dataframe\">\n",
              "  <thead>\n",
              "    <tr style=\"text-align: right;\">\n",
              "      <th></th>\n",
              "      <th>Breathing Problem</th>\n",
              "      <th>Fever</th>\n",
              "      <th>Dry Cough</th>\n",
              "      <th>Sore throat</th>\n",
              "      <th>Running Nose</th>\n",
              "      <th>Asthma</th>\n",
              "      <th>Chronic Lung Disease</th>\n",
              "      <th>Headache</th>\n",
              "      <th>Heart Disease</th>\n",
              "      <th>Diabetes</th>\n",
              "      <th>Hyper Tension</th>\n",
              "      <th>Fatigue</th>\n",
              "      <th>Gastrointestinal</th>\n",
              "      <th>Abroad travel</th>\n",
              "      <th>Contact with COVID Patient</th>\n",
              "      <th>Attended Large Gathering</th>\n",
              "      <th>Visited Public Exposed Places</th>\n",
              "      <th>Family working in Public Exposed Places</th>\n",
              "      <th>COVID-19</th>\n",
              "    </tr>\n",
              "  </thead>\n",
              "  <tbody>\n",
              "    <tr>\n",
              "      <th>0</th>\n",
              "      <td>1</td>\n",
              "      <td>1</td>\n",
              "      <td>1</td>\n",
              "      <td>1</td>\n",
              "      <td>1</td>\n",
              "      <td>0</td>\n",
              "      <td>0</td>\n",
              "      <td>0</td>\n",
              "      <td>0</td>\n",
              "      <td>1</td>\n",
              "      <td>1</td>\n",
              "      <td>1</td>\n",
              "      <td>1</td>\n",
              "      <td>0</td>\n",
              "      <td>1</td>\n",
              "      <td>0</td>\n",
              "      <td>1</td>\n",
              "      <td>1</td>\n",
              "      <td>1</td>\n",
              "    </tr>\n",
              "    <tr>\n",
              "      <th>1</th>\n",
              "      <td>1</td>\n",
              "      <td>1</td>\n",
              "      <td>1</td>\n",
              "      <td>1</td>\n",
              "      <td>0</td>\n",
              "      <td>1</td>\n",
              "      <td>1</td>\n",
              "      <td>1</td>\n",
              "      <td>0</td>\n",
              "      <td>0</td>\n",
              "      <td>0</td>\n",
              "      <td>1</td>\n",
              "      <td>0</td>\n",
              "      <td>0</td>\n",
              "      <td>0</td>\n",
              "      <td>1</td>\n",
              "      <td>1</td>\n",
              "      <td>0</td>\n",
              "      <td>1</td>\n",
              "    </tr>\n",
              "    <tr>\n",
              "      <th>2</th>\n",
              "      <td>1</td>\n",
              "      <td>1</td>\n",
              "      <td>1</td>\n",
              "      <td>1</td>\n",
              "      <td>1</td>\n",
              "      <td>1</td>\n",
              "      <td>1</td>\n",
              "      <td>1</td>\n",
              "      <td>0</td>\n",
              "      <td>1</td>\n",
              "      <td>0</td>\n",
              "      <td>1</td>\n",
              "      <td>1</td>\n",
              "      <td>1</td>\n",
              "      <td>0</td>\n",
              "      <td>0</td>\n",
              "      <td>0</td>\n",
              "      <td>0</td>\n",
              "      <td>1</td>\n",
              "    </tr>\n",
              "    <tr>\n",
              "      <th>3</th>\n",
              "      <td>1</td>\n",
              "      <td>1</td>\n",
              "      <td>1</td>\n",
              "      <td>0</td>\n",
              "      <td>0</td>\n",
              "      <td>1</td>\n",
              "      <td>0</td>\n",
              "      <td>0</td>\n",
              "      <td>1</td>\n",
              "      <td>1</td>\n",
              "      <td>0</td>\n",
              "      <td>0</td>\n",
              "      <td>0</td>\n",
              "      <td>1</td>\n",
              "      <td>0</td>\n",
              "      <td>1</td>\n",
              "      <td>1</td>\n",
              "      <td>0</td>\n",
              "      <td>1</td>\n",
              "    </tr>\n",
              "    <tr>\n",
              "      <th>4</th>\n",
              "      <td>1</td>\n",
              "      <td>1</td>\n",
              "      <td>1</td>\n",
              "      <td>1</td>\n",
              "      <td>1</td>\n",
              "      <td>0</td>\n",
              "      <td>1</td>\n",
              "      <td>1</td>\n",
              "      <td>1</td>\n",
              "      <td>1</td>\n",
              "      <td>1</td>\n",
              "      <td>0</td>\n",
              "      <td>1</td>\n",
              "      <td>0</td>\n",
              "      <td>1</td>\n",
              "      <td>0</td>\n",
              "      <td>1</td>\n",
              "      <td>0</td>\n",
              "      <td>1</td>\n",
              "    </tr>\n",
              "  </tbody>\n",
              "</table>\n",
              "</div>"
            ],
            "text/plain": [
              "   Breathing Problem  Fever  ...  Family working in Public Exposed Places  COVID-19\n",
              "0                  1      1  ...                                        1         1\n",
              "1                  1      1  ...                                        0         1\n",
              "2                  1      1  ...                                        0         1\n",
              "3                  1      1  ...                                        0         1\n",
              "4                  1      1  ...                                        0         1\n",
              "\n",
              "[5 rows x 19 columns]"
            ]
          },
          "metadata": {
            "tags": []
          },
          "execution_count": 13
        }
      ]
    },
    {
      "cell_type": "code",
      "metadata": {
        "id": "EJFo55sUdVm4"
      },
      "source": [
        "from sklearn.preprocessing import StandardScaler\n",
        "\n",
        "scaler = StandardScaler().fit(X_train)\n",
        "\n",
        "X_train = scaler.transform(X_train)\n",
        "\n",
        "X_test = scaler.transform(X_test)  "
      ],
      "execution_count": null,
      "outputs": []
    },
    {
      "cell_type": "markdown",
      "metadata": {
        "id": "hKkaof5euaDq"
      },
      "source": [
        "Conducting training with 3 layers with 100 epoch"
      ]
    },
    {
      "cell_type": "code",
      "metadata": {
        "colab": {
          "base_uri": "https://localhost:8080/"
        },
        "id": "PfizK2M_eENN",
        "outputId": "19c22b1d-9dc3-447d-895e-ebe3c972da7a"
      },
      "source": [
        "from keras.models import Sequential\n",
        "from keras.layers import Dense\n",
        "\n",
        "model = Sequential()\n",
        "\n",
        "model.add(Dense(18, activation='relu', input_shape=(18,)))\n",
        "\n",
        "model.add(Dense(18, activation='relu'))\n",
        "\n",
        "model.add(Dense(1, activation='sigmoid'))\n",
        "\n",
        "model.compile(loss='binary_crossentropy',\n",
        "              optimizer='sgd',\n",
        "              metrics=['accuracy'])\n",
        "                   \n",
        "model.fit(X_train, y_train,epochs=100, batch_size=1, verbose=1)"
      ],
      "execution_count": null,
      "outputs": [
        {
          "output_type": "stream",
          "text": [
            "Epoch 1/100\n",
            "4347/4347 [==============================] - 16s 980us/step - loss: 0.2516 - accuracy: 0.8992\n",
            "Epoch 2/100\n",
            "4347/4347 [==============================] - 4s 971us/step - loss: 0.0505 - accuracy: 0.9789\n",
            "Epoch 3/100\n",
            "4347/4347 [==============================] - 4s 1ms/step - loss: 0.0499 - accuracy: 0.9771\n",
            "Epoch 4/100\n",
            "4347/4347 [==============================] - 4s 1ms/step - loss: 0.0503 - accuracy: 0.9763\n",
            "Epoch 5/100\n",
            "4347/4347 [==============================] - 5s 1ms/step - loss: 0.0422 - accuracy: 0.9757\n",
            "Epoch 6/100\n",
            "4347/4347 [==============================] - 4s 980us/step - loss: 0.0351 - accuracy: 0.9838\n",
            "Epoch 7/100\n",
            "4347/4347 [==============================] - 4s 973us/step - loss: 0.0361 - accuracy: 0.9797\n",
            "Epoch 8/100\n",
            "4347/4347 [==============================] - 4s 998us/step - loss: 0.0370 - accuracy: 0.9806\n",
            "Epoch 9/100\n",
            "4347/4347 [==============================] - 4s 975us/step - loss: 0.0347 - accuracy: 0.9783\n",
            "Epoch 10/100\n",
            "4347/4347 [==============================] - 5s 1ms/step - loss: 0.0351 - accuracy: 0.9817\n",
            "Epoch 11/100\n",
            "4347/4347 [==============================] - 4s 984us/step - loss: 0.0356 - accuracy: 0.9800\n",
            "Epoch 12/100\n",
            "4347/4347 [==============================] - 4s 1ms/step - loss: 0.0424 - accuracy: 0.9747\n",
            "Epoch 13/100\n",
            "4347/4347 [==============================] - 4s 987us/step - loss: 0.0387 - accuracy: 0.9769\n",
            "Epoch 14/100\n",
            "4347/4347 [==============================] - 4s 1ms/step - loss: 0.0316 - accuracy: 0.9854\n",
            "Epoch 15/100\n",
            "4347/4347 [==============================] - 4s 1000us/step - loss: 0.0328 - accuracy: 0.9798\n",
            "Epoch 16/100\n",
            "4347/4347 [==============================] - 4s 955us/step - loss: 0.0317 - accuracy: 0.9838\n",
            "Epoch 17/100\n",
            "4347/4347 [==============================] - 4s 991us/step - loss: 0.0339 - accuracy: 0.9818\n",
            "Epoch 18/100\n",
            "4347/4347 [==============================] - 4s 1ms/step - loss: 0.0349 - accuracy: 0.9825\n",
            "Epoch 19/100\n",
            "4347/4347 [==============================] - 4s 959us/step - loss: 0.0387 - accuracy: 0.9778\n",
            "Epoch 20/100\n",
            "4347/4347 [==============================] - 4s 966us/step - loss: 0.0350 - accuracy: 0.9811\n",
            "Epoch 21/100\n",
            "4347/4347 [==============================] - 4s 952us/step - loss: 0.0325 - accuracy: 0.9846\n",
            "Epoch 22/100\n",
            "4347/4347 [==============================] - 4s 968us/step - loss: 0.0325 - accuracy: 0.9811\n",
            "Epoch 23/100\n",
            "4347/4347 [==============================] - 4s 993us/step - loss: 0.0405 - accuracy: 0.9797\n",
            "Epoch 24/100\n",
            "4347/4347 [==============================] - 4s 950us/step - loss: 0.0380 - accuracy: 0.9796\n",
            "Epoch 25/100\n",
            "4347/4347 [==============================] - 4s 948us/step - loss: 0.0294 - accuracy: 0.9830\n",
            "Epoch 26/100\n",
            "4347/4347 [==============================] - 4s 996us/step - loss: 0.0323 - accuracy: 0.9818\n",
            "Epoch 27/100\n",
            "4347/4347 [==============================] - 4s 957us/step - loss: 0.0344 - accuracy: 0.9787\n",
            "Epoch 28/100\n",
            "4347/4347 [==============================] - 4s 945us/step - loss: 0.0393 - accuracy: 0.9787\n",
            "Epoch 29/100\n",
            "4347/4347 [==============================] - 4s 996us/step - loss: 0.0344 - accuracy: 0.9807\n",
            "Epoch 30/100\n",
            "4347/4347 [==============================] - 4s 1ms/step - loss: 0.0345 - accuracy: 0.9828\n",
            "Epoch 31/100\n",
            "4347/4347 [==============================] - 4s 968us/step - loss: 0.0339 - accuracy: 0.9832\n",
            "Epoch 32/100\n",
            "4347/4347 [==============================] - 4s 958us/step - loss: 0.0329 - accuracy: 0.9806\n",
            "Epoch 33/100\n",
            "4347/4347 [==============================] - 4s 998us/step - loss: 0.0365 - accuracy: 0.9801\n",
            "Epoch 34/100\n",
            "4347/4347 [==============================] - 4s 1ms/step - loss: 0.0372 - accuracy: 0.9792\n",
            "Epoch 35/100\n",
            "4347/4347 [==============================] - 4s 945us/step - loss: 0.0330 - accuracy: 0.9816\n",
            "Epoch 36/100\n",
            "4347/4347 [==============================] - 4s 958us/step - loss: 0.0311 - accuracy: 0.9806\n",
            "Epoch 37/100\n",
            "4347/4347 [==============================] - 4s 1ms/step - loss: 0.0336 - accuracy: 0.9799\n",
            "Epoch 38/100\n",
            "4347/4347 [==============================] - 4s 959us/step - loss: 0.0348 - accuracy: 0.9814\n",
            "Epoch 39/100\n",
            "4347/4347 [==============================] - 4s 991us/step - loss: 0.0348 - accuracy: 0.9810\n",
            "Epoch 40/100\n",
            "4347/4347 [==============================] - 4s 991us/step - loss: 0.0385 - accuracy: 0.9779\n",
            "Epoch 41/100\n",
            "4347/4347 [==============================] - 4s 1ms/step - loss: 0.0351 - accuracy: 0.9807\n",
            "Epoch 42/100\n",
            "4347/4347 [==============================] - 4s 954us/step - loss: 0.0374 - accuracy: 0.9810\n",
            "Epoch 43/100\n",
            "4347/4347 [==============================] - 4s 998us/step - loss: 0.0337 - accuracy: 0.9839\n",
            "Epoch 44/100\n",
            "4347/4347 [==============================] - 4s 952us/step - loss: 0.0338 - accuracy: 0.9808\n",
            "Epoch 45/100\n",
            "4347/4347 [==============================] - 4s 991us/step - loss: 0.0310 - accuracy: 0.9826\n",
            "Epoch 46/100\n",
            "4347/4347 [==============================] - 4s 1ms/step - loss: 0.0383 - accuracy: 0.9810\n",
            "Epoch 47/100\n",
            "4347/4347 [==============================] - 4s 1ms/step - loss: 0.0332 - accuracy: 0.9805\n",
            "Epoch 48/100\n",
            "4347/4347 [==============================] - 4s 1ms/step - loss: 0.0296 - accuracy: 0.9825\n",
            "Epoch 49/100\n",
            "4347/4347 [==============================] - 5s 1ms/step - loss: 0.0312 - accuracy: 0.9845\n",
            "Epoch 50/100\n",
            "4347/4347 [==============================] - 4s 1ms/step - loss: 0.0360 - accuracy: 0.9776\n",
            "Epoch 51/100\n",
            "4347/4347 [==============================] - 4s 971us/step - loss: 0.0314 - accuracy: 0.9819\n",
            "Epoch 52/100\n",
            "4347/4347 [==============================] - 4s 945us/step - loss: 0.0312 - accuracy: 0.9813\n",
            "Epoch 53/100\n",
            "4347/4347 [==============================] - 5s 1ms/step - loss: 0.0354 - accuracy: 0.9818\n",
            "Epoch 54/100\n",
            "4347/4347 [==============================] - 4s 1ms/step - loss: 0.0354 - accuracy: 0.9804\n",
            "Epoch 55/100\n",
            "4347/4347 [==============================] - 4s 970us/step - loss: 0.0379 - accuracy: 0.9785\n",
            "Epoch 56/100\n",
            "4347/4347 [==============================] - 5s 1ms/step - loss: 0.0331 - accuracy: 0.9845\n",
            "Epoch 57/100\n",
            "4347/4347 [==============================] - 4s 980us/step - loss: 0.0333 - accuracy: 0.9816\n",
            "Epoch 58/100\n",
            "4347/4347 [==============================] - 4s 1ms/step - loss: 0.0369 - accuracy: 0.9806\n",
            "Epoch 59/100\n",
            "4347/4347 [==============================] - 4s 1ms/step - loss: 0.0369 - accuracy: 0.9804\n",
            "Epoch 60/100\n",
            "4347/4347 [==============================] - 4s 973us/step - loss: 0.0333 - accuracy: 0.9820\n",
            "Epoch 61/100\n",
            "4347/4347 [==============================] - 4s 985us/step - loss: 0.0318 - accuracy: 0.9825\n",
            "Epoch 62/100\n",
            "4347/4347 [==============================] - 4s 995us/step - loss: 0.0330 - accuracy: 0.9821\n",
            "Epoch 63/100\n",
            "4347/4347 [==============================] - 4s 1ms/step - loss: 0.0376 - accuracy: 0.9788\n",
            "Epoch 64/100\n",
            "4347/4347 [==============================] - 4s 1ms/step - loss: 0.0350 - accuracy: 0.9802\n",
            "Epoch 65/100\n",
            "4347/4347 [==============================] - 4s 968us/step - loss: 0.0326 - accuracy: 0.9838\n",
            "Epoch 66/100\n",
            "4347/4347 [==============================] - 4s 1ms/step - loss: 0.0333 - accuracy: 0.9828\n",
            "Epoch 67/100\n",
            "4347/4347 [==============================] - 5s 1ms/step - loss: 0.0349 - accuracy: 0.9832\n",
            "Epoch 68/100\n",
            "4347/4347 [==============================] - 4s 991us/step - loss: 0.0359 - accuracy: 0.9830\n",
            "Epoch 69/100\n",
            "4347/4347 [==============================] - 4s 1ms/step - loss: 0.0313 - accuracy: 0.9831\n",
            "Epoch 70/100\n",
            "4347/4347 [==============================] - 4s 999us/step - loss: 0.0358 - accuracy: 0.9813\n",
            "Epoch 71/100\n",
            "4347/4347 [==============================] - 4s 1ms/step - loss: 0.0339 - accuracy: 0.9827\n",
            "Epoch 72/100\n",
            "4347/4347 [==============================] - 4s 1ms/step - loss: 0.0326 - accuracy: 0.9809\n",
            "Epoch 73/100\n",
            "4347/4347 [==============================] - 5s 1ms/step - loss: 0.0326 - accuracy: 0.9827\n",
            "Epoch 74/100\n",
            "4347/4347 [==============================] - 5s 1ms/step - loss: 0.0353 - accuracy: 0.9780\n",
            "Epoch 75/100\n",
            "4347/4347 [==============================] - 5s 1ms/step - loss: 0.0318 - accuracy: 0.9839\n",
            "Epoch 76/100\n",
            "4347/4347 [==============================] - 4s 1ms/step - loss: 0.0283 - accuracy: 0.9823\n",
            "Epoch 77/100\n",
            "4347/4347 [==============================] - 4s 972us/step - loss: 0.0297 - accuracy: 0.9844\n",
            "Epoch 78/100\n",
            "4347/4347 [==============================] - 4s 985us/step - loss: 0.0308 - accuracy: 0.9852\n",
            "Epoch 79/100\n",
            "4347/4347 [==============================] - 4s 983us/step - loss: 0.0317 - accuracy: 0.9833\n",
            "Epoch 80/100\n",
            "4347/4347 [==============================] - 4s 971us/step - loss: 0.0312 - accuracy: 0.9840\n",
            "Epoch 81/100\n",
            "4347/4347 [==============================] - 4s 1ms/step - loss: 0.0348 - accuracy: 0.9820\n",
            "Epoch 82/100\n",
            "4347/4347 [==============================] - 4s 981us/step - loss: 0.0362 - accuracy: 0.9784\n",
            "Epoch 83/100\n",
            "4347/4347 [==============================] - 4s 1ms/step - loss: 0.0354 - accuracy: 0.9773\n",
            "Epoch 84/100\n",
            "4347/4347 [==============================] - 4s 989us/step - loss: 0.0305 - accuracy: 0.9867\n",
            "Epoch 85/100\n",
            "4347/4347 [==============================] - 4s 996us/step - loss: 0.0329 - accuracy: 0.9822\n",
            "Epoch 86/100\n",
            "4347/4347 [==============================] - 4s 995us/step - loss: 0.0387 - accuracy: 0.9782\n",
            "Epoch 87/100\n",
            "4347/4347 [==============================] - 4s 1ms/step - loss: 0.0319 - accuracy: 0.9830\n",
            "Epoch 88/100\n",
            "4347/4347 [==============================] - 4s 1ms/step - loss: 0.0332 - accuracy: 0.9817\n",
            "Epoch 89/100\n",
            "4347/4347 [==============================] - 5s 1ms/step - loss: 0.0360 - accuracy: 0.9788\n",
            "Epoch 90/100\n",
            "4347/4347 [==============================] - 5s 1ms/step - loss: 0.0404 - accuracy: 0.9773\n",
            "Epoch 91/100\n",
            "4347/4347 [==============================] - 4s 1ms/step - loss: 0.0343 - accuracy: 0.9825\n",
            "Epoch 92/100\n",
            "4347/4347 [==============================] - 4s 998us/step - loss: 0.0331 - accuracy: 0.9807\n",
            "Epoch 93/100\n",
            "4347/4347 [==============================] - 4s 974us/step - loss: 0.0347 - accuracy: 0.9811\n",
            "Epoch 94/100\n",
            "4347/4347 [==============================] - 4s 1ms/step - loss: 0.0316 - accuracy: 0.9834\n",
            "Epoch 95/100\n",
            "4347/4347 [==============================] - 4s 1ms/step - loss: 0.0340 - accuracy: 0.9821\n",
            "Epoch 96/100\n",
            "4347/4347 [==============================] - 4s 999us/step - loss: 0.0299 - accuracy: 0.9835\n",
            "Epoch 97/100\n",
            "4347/4347 [==============================] - 4s 1ms/step - loss: 0.0335 - accuracy: 0.9814\n",
            "Epoch 98/100\n",
            "4347/4347 [==============================] - 4s 1ms/step - loss: 0.0366 - accuracy: 0.9792\n",
            "Epoch 99/100\n",
            "4347/4347 [==============================] - 4s 982us/step - loss: 0.0341 - accuracy: 0.9813\n",
            "Epoch 100/100\n",
            "4347/4347 [==============================] - 4s 1ms/step - loss: 0.0314 - accuracy: 0.9847\n"
          ],
          "name": "stdout"
        },
        {
          "output_type": "execute_result",
          "data": {
            "text/plain": [
              "<keras.callbacks.History at 0x7f9a5be6b850>"
            ]
          },
          "metadata": {
            "tags": []
          },
          "execution_count": 15
        }
      ]
    },
    {
      "cell_type": "code",
      "metadata": {
        "colab": {
          "base_uri": "https://localhost:8080/"
        },
        "id": "TVzvzb9yeZ2r",
        "outputId": "a52515c9-7f2b-46c3-b292-7212ceb9af52"
      },
      "source": [
        "model.summary()"
      ],
      "execution_count": null,
      "outputs": [
        {
          "output_type": "stream",
          "text": [
            "Model: \"sequential\"\n",
            "_________________________________________________________________\n",
            "Layer (type)                 Output Shape              Param #   \n",
            "=================================================================\n",
            "dense (Dense)                (None, 18)                342       \n",
            "_________________________________________________________________\n",
            "dense_1 (Dense)              (None, 18)                342       \n",
            "_________________________________________________________________\n",
            "dense_2 (Dense)              (None, 1)                 19        \n",
            "=================================================================\n",
            "Total params: 703\n",
            "Trainable params: 703\n",
            "Non-trainable params: 0\n",
            "_________________________________________________________________\n"
          ],
          "name": "stdout"
        }
      ]
    },
    {
      "cell_type": "markdown",
      "metadata": {
        "id": "UAj-S7K9n9ee"
      },
      "source": [
        "Here are the weight for each layer web mentions"
      ]
    },
    {
      "cell_type": "code",
      "metadata": {
        "id": "-fQ1GwCpfaRb"
      },
      "source": [
        "for layer in model.layers:\n",
        "    weights = layer.get_weights()"
      ],
      "execution_count": null,
      "outputs": []
    },
    {
      "cell_type": "markdown",
      "metadata": {
        "id": "E1BkFfG2uuR6"
      },
      "source": [
        "Knowing the Accuracy and Loss values ​​of test test data"
      ]
    },
    {
      "cell_type": "code",
      "metadata": {
        "colab": {
          "base_uri": "https://localhost:8080/"
        },
        "id": "3DxdjyTMgB11",
        "outputId": "1340d0b2-b19e-4dcf-c2d6-9b3a830c67ff"
      },
      "source": [
        "score = model.evaluate(X_test, y_test,verbose=1)\n",
        "\n",
        "print(score)"
      ],
      "execution_count": null,
      "outputs": [
        {
          "output_type": "stream",
          "text": [
            "34/34 [==============================] - 1s 985us/step - loss: 0.0342 - accuracy: 0.9853\n",
            "[0.03417235612869263, 0.9852805733680725]\n"
          ],
          "name": "stdout"
        }
      ]
    },
    {
      "cell_type": "markdown",
      "metadata": {
        "id": "JKDp58Hlung2"
      },
      "source": [
        "Proof by doing manual input and getting the output according to the input"
      ]
    },
    {
      "cell_type": "code",
      "metadata": {
        "colab": {
          "base_uri": "https://localhost:8080/"
        },
        "id": "4HKh659zegQS",
        "outputId": "722eda1b-103f-482b-da01-d497950c412b"
      },
      "source": [
        "inp=[]\n",
        "inp=[1,1,1,1,1,1,1,1,1,1,1,1,1,1,1,1,1,1]\n",
        "inp=np.array(inp)\n",
        "#model.predict(reshape(inp))\n",
        "\n",
        "# Generate predictions for samples\n",
        "predictions = model.predict(inp.reshape(-1,18))\n",
        "if predictions ==1:\n",
        "  print(\"Positif\")\n",
        "else:\n",
        "  print(\"Negative\")\n",
        "print(predictions)\n"
      ],
      "execution_count": null,
      "outputs": [
        {
          "output_type": "stream",
          "text": [
            "Positif\n",
            "[[1.]]\n"
          ],
          "name": "stdout"
        }
      ]
    },
    {
      "cell_type": "markdown",
      "metadata": {
        "id": "_MWSHm_Tu446"
      },
      "source": [
        "Save model to format .H5"
      ]
    },
    {
      "cell_type": "code",
      "metadata": {
        "id": "ZUr2-ZaLqzmq"
      },
      "source": [
        "model_1=model\n",
        "model_1.save(\"javas.h5\")"
      ],
      "execution_count": null,
      "outputs": []
    },
    {
      "cell_type": "markdown",
      "metadata": {
        "id": "91bECtLTu826"
      },
      "source": [
        "Convert the .H5 model to tflite so that it can be deployed directly to Android"
      ]
    },
    {
      "cell_type": "code",
      "metadata": {
        "colab": {
          "base_uri": "https://localhost:8080/"
        },
        "id": "uJXDqW5hq43h",
        "outputId": "929e168e-9882-4a97-f6a3-8cc99254347a"
      },
      "source": [
        "model = tf.keras.models.load_model('/content/javas.h5')\n",
        "converter = tf.lite.TFLiteConverter.from_keras_model(model)\n",
        "tflite_model=converter.convert()\n",
        "open(\"javas.tflite\",\"wb\").write(tflite_model)"
      ],
      "execution_count": null,
      "outputs": [
        {
          "output_type": "stream",
          "text": [
            "INFO:tensorflow:Assets written to: /tmp/tmps5okn0tw/assets\n"
          ],
          "name": "stdout"
        },
        {
          "output_type": "execute_result",
          "data": {
            "text/plain": [
              "4568"
            ]
          },
          "metadata": {
            "tags": []
          },
          "execution_count": 21
        }
      ]
    },
    {
      "cell_type": "code",
      "metadata": {
        "colab": {
          "base_uri": "https://localhost:8080/"
        },
        "id": "o-jG-z4gwKQB",
        "outputId": "fe978341-1cc9-4010-8623-368fcda3a897"
      },
      "source": [
        "import tensorflow as tf\n",
        "\n",
        "from tensorflow.keras import layers\n",
        "from tensorflow.keras import regularizers\n",
        "\n",
        "print(tf.__version__)\n",
        "\n",
        "!pip install git+https://github.com/tensorflow/docs\n",
        "\n",
        "import tensorflow_docs as tfdocs\n",
        "import tensorflow_docs.modeling\n",
        "import tensorflow_docs.plots\n",
        "\n",
        "from  IPython import display\n",
        "from matplotlib import pyplot as plt\n",
        "\n",
        "import numpy as np\n",
        "\n",
        "import pathlib\n",
        "import shutil\n",
        "import tempfile\n"
      ],
      "execution_count": null,
      "outputs": [
        {
          "output_type": "stream",
          "text": [
            "2.5.0\n",
            "Collecting git+https://github.com/tensorflow/docs\n",
            "  Cloning https://github.com/tensorflow/docs to /tmp/pip-req-build-hhtrk8ut\n",
            "  Running command git clone -q https://github.com/tensorflow/docs /tmp/pip-req-build-hhtrk8ut\n",
            "Requirement already satisfied (use --upgrade to upgrade): tensorflow-docs===0.0.0da72a01b9956ffdc3723d8fbcf3e04f96e4df171- from git+https://github.com/tensorflow/docs in /usr/local/lib/python3.7/dist-packages\n",
            "Requirement already satisfied: astor in /usr/local/lib/python3.7/dist-packages (from tensorflow-docs===0.0.0da72a01b9956ffdc3723d8fbcf3e04f96e4df171-) (0.8.1)\n",
            "Requirement already satisfied: absl-py in /usr/local/lib/python3.7/dist-packages (from tensorflow-docs===0.0.0da72a01b9956ffdc3723d8fbcf3e04f96e4df171-) (0.12.0)\n",
            "Requirement already satisfied: protobuf>=3.14 in /usr/local/lib/python3.7/dist-packages (from tensorflow-docs===0.0.0da72a01b9956ffdc3723d8fbcf3e04f96e4df171-) (3.17.1)\n",
            "Requirement already satisfied: pyyaml in /usr/local/lib/python3.7/dist-packages (from tensorflow-docs===0.0.0da72a01b9956ffdc3723d8fbcf3e04f96e4df171-) (3.13)\n",
            "Requirement already satisfied: six in /usr/local/lib/python3.7/dist-packages (from absl-py->tensorflow-docs===0.0.0da72a01b9956ffdc3723d8fbcf3e04f96e4df171-) (1.15.0)\n",
            "Building wheels for collected packages: tensorflow-docs\n",
            "  Building wheel for tensorflow-docs (setup.py) ... \u001b[?25l\u001b[?25hdone\n",
            "  Created wheel for tensorflow-docs: filename=tensorflow_docs-0.0.0da72a01b9956ffdc3723d8fbcf3e04f96e4df171_-cp37-none-any.whl size=151488 sha256=895c40c4bceb510b4de8bf7a7d49d1bad508012b94575a180808e5070597653b\n",
            "  Stored in directory: /tmp/pip-ephem-wheel-cache-4cdpja7k/wheels/eb/1b/35/fce87697be00d2fc63e0b4b395b0d9c7e391a10e98d9a0d97f\n",
            "Successfully built tensorflow-docs\n"
          ],
          "name": "stdout"
        }
      ]
    },
    {
      "cell_type": "code",
      "metadata": {
        "id": "xiw3FaMqzqna"
      },
      "source": [
        "model = tf.keras.models.load_model('/content/javas.h5')"
      ],
      "execution_count": null,
      "outputs": []
    }
  ]
}